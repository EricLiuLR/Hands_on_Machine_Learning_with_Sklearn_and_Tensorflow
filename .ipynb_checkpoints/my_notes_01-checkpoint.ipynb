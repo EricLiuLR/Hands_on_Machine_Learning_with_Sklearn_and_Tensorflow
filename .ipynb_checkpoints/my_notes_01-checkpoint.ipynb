{
 "cells": [
  {
   "cell_type": "markdown",
   "metadata": {},
   "source": [
    "# The Machine Learning Landscape"
   ]
  },
  {
   "cell_type": "markdown",
   "metadata": {},
   "source": [
    "Machine Learning: the science and art of programming computers so they can learn from data"
   ]
  },
  {
   "cell_type": "markdown",
   "metadata": {},
   "source": [
    "Machine Learning is great at:\n",
    "- Problems for which existing solutions require a lot of hand-tunning or long list of rules\n",
    "- Complex problems for which there is no good solution at all using a traditional approach\n",
    "- Fluctuating environments\n",
    "- Getting insights about complex problems and large amounts of data"
   ]
  },
  {
   "cell_type": "markdown",
   "metadata": {},
   "source": [
    "### Types of Machine Learning Systems"
   ]
  },
  {
   "cell_type": "markdown",
   "metadata": {},
   "source": [
    "- Supervised learning, Unsupervised learning, and Reinforcement learning\n",
    "- Online learning and Batch learning\n",
    "- instance-based learning and model-based learning"
   ]
  },
  {
   "cell_type": "markdown",
   "metadata": {},
   "source": [
    "### Main Challenges of Machine Learning\n",
    "- Insufficient quantity of training data: machine learning algorithms, including fairly simple ones, performs almost identically well on a complex problem once they got enough data\n",
    "- Non-representative training data: sampling errors and other\n",
    "- Poor-quality data: training data full of errors, outliers, and noise: if some instances are clearly outliers, it may help to simply discard them or try fixing the errors manually; if some instances are missing a few features, you must decide whether you want to ignore this attribute altogether , ignore these instances, fill in the missing values, or train one model with the feature and one model without it, and so on\n",
    "- Irrelevant features\n",
    "- Overfitting the training data: happens when the model is too complex relative to the amount and noiseness of the training data\n",
    "- Underfitting the training data"
   ]
  },
  {
   "cell_type": "markdown",
   "metadata": {},
   "source": [
    "### Tesing and Validating\n",
    "- training set and test set\n",
    "- validation set"
   ]
  }
 ],
 "metadata": {
  "kernelspec": {
   "display_name": "Python 3",
   "language": "python",
   "name": "python3"
  },
  "language_info": {
   "codemirror_mode": {
    "name": "ipython",
    "version": 3
   },
   "file_extension": ".py",
   "mimetype": "text/x-python",
   "name": "python",
   "nbconvert_exporter": "python",
   "pygments_lexer": "ipython3",
   "version": "3.7.3"
  }
 },
 "nbformat": 4,
 "nbformat_minor": 2
}
