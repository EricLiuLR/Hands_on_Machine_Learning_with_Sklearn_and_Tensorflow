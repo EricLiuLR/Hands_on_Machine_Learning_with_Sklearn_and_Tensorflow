{
 "cells": [
  {
   "cell_type": "markdown",
   "metadata": {},
   "source": [
    "# Convolutional Neural Networks"
   ]
  },
  {
   "cell_type": "markdown",
   "metadata": {},
   "source": [
    "Why not simply use a regular deep neural network with fully connected\n",
    "layers for image recognition tasks? Unfortunately, although\n",
    "this works fine for small images (e.g., MNIST), it breaks down for\n",
    "larger images because of the huge number of parameters it\n",
    "requires. For example, a 100 × 100 image has 10,000 pixels, and if\n",
    "the first layer has just 1,000 neurons (which already severely\n",
    "restricts the amount of information transmitted to the next layer),\n",
    "this means a total of 10 million connections. And that’s just the first\n",
    "layer. CNNs solve this problem using partially connected layers."
   ]
  },
  {
   "cell_type": "markdown",
   "metadata": {},
   "source": [
    "### Convolutional Layer"
   ]
  },
  {
   "cell_type": "markdown",
   "metadata": {},
   "source": [
    "- The most important building block of a CNN\n",
    "- Neurons in the first convolutional layer are not connect to every single pixel in the input image, but only to pixels in their receptive fields\n",
    "- In turn, each neuron in the second convolutional layer is connected only to the nuerons located within a small rectangle in the first hidden layer\n",
    "- This architecture allows the network to concentrate on low-level features in the first hidden layer, then assemble them into higher-level features in the next hidden layer, and so on\n",
    "- This hierarchical structure is common in real-world images, which is one of the reasons why CNNs work so well for image recognition"
   ]
  }
 ],
 "metadata": {
  "kernelspec": {
   "display_name": "Python 3",
   "language": "python",
   "name": "python3"
  },
  "language_info": {
   "codemirror_mode": {
    "name": "ipython",
    "version": 3
   },
   "file_extension": ".py",
   "mimetype": "text/x-python",
   "name": "python",
   "nbconvert_exporter": "python",
   "pygments_lexer": "ipython3",
   "version": "3.7.1"
  }
 },
 "nbformat": 4,
 "nbformat_minor": 2
}
